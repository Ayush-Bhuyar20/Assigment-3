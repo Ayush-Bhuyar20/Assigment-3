{
 "cells": [
  {
   "cell_type": "markdown",
   "id": "d9bdcc65-2835-4d78-aacf-085001cfe143",
   "metadata": {},
   "source": [
    "Q1. Which keyword is used to create a function? Create a function to return a list of odd numbers in the\n",
    "    range of 1 to 25."
   ]
  },
  {
   "cell_type": "code",
   "execution_count": 30,
   "id": "2998e208-a429-433c-8bd0-ad166f9bdd1b",
   "metadata": {},
   "outputs": [
    {
     "name": "stdout",
     "output_type": "stream",
     "text": [
      "[1, 3, 5, 7, 9, 11, 13, 15, 17, 19, 21, 23, 25]\n"
     ]
    }
   ],
   "source": [
    "#ANS: #def is used to create a function\n",
    "def oddNum():\n",
    "    l1 = []\n",
    "    for i in range(0,26):\n",
    "        if i % 2 != 0:\n",
    "            result = i\n",
    "            l1.append(result)\n",
    "    print(l1)\n",
    "            \n",
    "            \n",
    "oddNum()"
   ]
  },
  {
   "cell_type": "markdown",
   "id": "9d60de75-65dc-4d44-98c0-194d215493a2",
   "metadata": {},
   "source": [
    "Q2. Why *args and ** kwargs is used in some functions? Create a function each for *args and ** kwargs\n",
    "    to demonstrate their use.\n",
    "        "
   ]
  },
  {
   "cell_type": "code",
   "execution_count": 39,
   "id": "03c55a64-38d7-4a32-93e6-1f76041129f1",
   "metadata": {},
   "outputs": [
    {
     "name": "stdout",
     "output_type": "stream",
     "text": [
      "210\n",
      "name : Ayush\n",
      "age : 20\n",
      "degree : CSE\n",
      "location : Amravati\n",
      "Year : 3rd\n"
     ]
    }
   ],
   "source": [
    "#Ans: *args is used to pass a variable number of non-keyword arguments to a function. It allows you to pass any number of positional \n",
    "#      arguments to your function, which are then accessible as a tuple within the function.\n",
    "#    **kwargs is used to pass a variable number of keyword arguments to a function. It allows you to pass any number of keyword arguments, \n",
    "#      which are accessible as a dictionary within the function.\n",
    "    \n",
    "def productNum(*args):\n",
    "    result = 1\n",
    "    for i in args:\n",
    "        result *= i\n",
    "    return result\n",
    "print(productNum(5,6,7))\n",
    "\n",
    "def studentsdetails(**kwargs):\n",
    "    for key, value in kwargs.items():\n",
    "        print(f\"{key} : {value}\")\n",
    "        \n",
    "studentsdetails(name = \"Ayush\" , age = 20 , degree = \"CSE\" , location = \"Amravati\", Year = \"3rd\")\n",
    "    \n"
   ]
  },
  {
   "cell_type": "markdown",
   "id": "8876cbc7-c6ac-4cb9-afda-95081cf6c11f",
   "metadata": {},
   "source": [
    "Q3. What is an iterator in python? Name the method used to initialise the iterator object and the method\n",
    "used for iteration. Use these methods to print the first five elements of the given list [2, 4, 6, 8, 10, 12, 14,\n",
    "16, 18, 20]."
   ]
  },
  {
   "cell_type": "code",
   "execution_count": 43,
   "id": "88dfc310-7015-49f8-b7db-b1401f13d1f5",
   "metadata": {},
   "outputs": [
    {
     "name": "stdout",
     "output_type": "stream",
     "text": [
      "2\n",
      "4\n",
      "6\n",
      "8\n",
      "10\n"
     ]
    }
   ],
   "source": [
    "#ANS: An iterator in Python is an object that allows you to traverse through all the elements of a collection (like lists, tuples, etc.) \n",
    "#    one by one\n",
    "l1 = [2, 4, 6, 8, 10, 12, 14, 16, 18, 20]\n",
    "\n",
    "def it_Rator(l1):\n",
    "    iterator = iter(l1)\n",
    "    for i in range(5):\n",
    "        elements  = next(iterator)\n",
    "        print(elements)\n",
    "        \n",
    "it_Rator(l1)"
   ]
  },
  {
   "cell_type": "markdown",
   "id": "8f1cb555-5f08-42d4-b743-ee6ea9c46d1d",
   "metadata": {},
   "source": [
    "Q4. What is a generator function in python? Why yield keyword is used? Give an example of a generator\n",
    "function."
   ]
  },
  {
   "cell_type": "raw",
   "id": "e5cf0e81-fb61-49c9-9e8b-3da909a89d00",
   "metadata": {},
   "source": [
    "ANS: A generator function in Python is a special type of function that allows you to create iterators in a more concise and readable way. \n",
    "     Unlike regular functions that return a single value and terminate, generator functions can yield multiple values, one at a time, and resume \n",
    "    where they left off when called again. This is achieved using the yield keyword.\n",
    "    The yield keyword is used in generator functions to produce a value and suspend the function's execution, saving its state. When the generator's __next__() method is called, the function resumes execution right after the yield statement, continuing until it hits another yield or returns."
   ]
  },
  {
   "cell_type": "code",
   "execution_count": 3,
   "id": "56b58426-82b4-4431-ba4f-ac9c4f4a5666",
   "metadata": {},
   "outputs": [
    {
     "name": "stdout",
     "output_type": "stream",
     "text": [
      "1\n",
      "2\n",
      "3\n",
      "4\n",
      "5\n"
     ]
    }
   ],
   "source": [
    "def simple_generator():\n",
    "    yield 1\n",
    "    yield 2\n",
    "    yield 3\n",
    "    yield 4\n",
    "    yield 5\n",
    "\n",
    "gen = simple_generator()\n",
    "\n",
    "\n",
    "for value in gen:\n",
    "    print(value)\n"
   ]
  },
  {
   "cell_type": "markdown",
   "id": "e6dae51f-9879-4a56-83f4-c8569538a1ce",
   "metadata": {},
   "source": [
    "Q5. Create a generator function for prime numbers less than 1000. Use the next() method to print the\n",
    "first 20 prime numbers."
   ]
  },
  {
   "cell_type": "code",
   "execution_count": 5,
   "id": "604d93bb-bcae-4ab9-928b-bf1379e29261",
   "metadata": {},
   "outputs": [
    {
     "name": "stdout",
     "output_type": "stream",
     "text": [
      "2\n",
      "3\n",
      "5\n",
      "7\n",
      "11\n",
      "13\n",
      "17\n",
      "19\n",
      "23\n",
      "29\n",
      "31\n",
      "37\n",
      "41\n",
      "43\n",
      "47\n",
      "53\n",
      "59\n",
      "61\n",
      "67\n",
      "71\n"
     ]
    }
   ],
   "source": [
    "def is_prime(n):\n",
    "    if n <= 1:\n",
    "        return False\n",
    "    for i in range(2, int(n ** 0.5) + 1):\n",
    "        if n % i == 0:\n",
    "            return False\n",
    "    return True\n",
    "\n",
    "def prime_generator():\n",
    "    num = 2\n",
    "    while True:\n",
    "        if is_prime(num):\n",
    "            yield num\n",
    "        num += 1\n",
    "\n",
    "def print_n_primes(n):\n",
    "    primes = prime_generator()\n",
    "    for _ in range(n):\n",
    "        print(next(primes))\n",
    "\n",
    "\n",
    "print_n_primes(20)\n"
   ]
  },
  {
   "cell_type": "markdown",
   "id": "a49747d9-0bcc-43ef-a675-60fd7df85be9",
   "metadata": {},
   "source": [
    "Q6. Write a python program to print the first 10 Fibonacci numbers using a while loop."
   ]
  },
  {
   "cell_type": "code",
   "execution_count": 6,
   "id": "b4dddfde-a7bc-4f1d-9b91-420a1e6fd532",
   "metadata": {},
   "outputs": [
    {
     "name": "stdout",
     "output_type": "stream",
     "text": [
      "0\n",
      "1\n",
      "1\n",
      "2\n",
      "3\n",
      "5\n",
      "8\n",
      "13\n",
      "21\n",
      "34\n"
     ]
    }
   ],
   "source": [
    "def print_fibonacci(n):\n",
    "    a, b = 0, 1\n",
    "    count = 0\n",
    "\n",
    "    while count < n:\n",
    "        print(a)\n",
    "        a, b = b, a + b\n",
    "        count += 1\n",
    "\n",
    "\n",
    "print_fibonacci(10)\n"
   ]
  },
  {
   "cell_type": "markdown",
   "id": "b6c34c22-5f83-4fcc-958c-963a63bd101e",
   "metadata": {},
   "source": [
    "Q7. Write a List Comprehension to iterate through the given string: ‘pwskills’.\n",
    "Expected output: ['p', 'w', 's', 'k', 'i', 'l', 'l', 's']"
   ]
  },
  {
   "cell_type": "code",
   "execution_count": 7,
   "id": "fe60740d-d198-48d3-8fae-54d802c2c5ac",
   "metadata": {},
   "outputs": [
    {
     "name": "stdout",
     "output_type": "stream",
     "text": [
      "['p', 'w', 's', 'k', 'i', 'l', 'l', 's']\n"
     ]
    }
   ],
   "source": [
    "string = 'pwskills'\n",
    "output = [char for char in string if char in 'pwskills']\n",
    "print(output)\n"
   ]
  },
  {
   "cell_type": "markdown",
   "id": "505329fb-a66a-4f1d-acb1-660c02208a6a",
   "metadata": {},
   "source": [
    "Q8. Write a python program to check whether a given number is Palindrome or not using a while loop."
   ]
  },
  {
   "cell_type": "code",
   "execution_count": 11,
   "id": "e6ef60f2-8814-44d4-8982-b4c61fc6f878",
   "metadata": {},
   "outputs": [
    {
     "name": "stdin",
     "output_type": "stream",
     "text": [
      "Enter a number:  12321\n"
     ]
    },
    {
     "name": "stdout",
     "output_type": "stream",
     "text": [
      "12321 is a palindrome.\n"
     ]
    }
   ],
   "source": [
    "def is_palindrome(number):\n",
    "   \n",
    "    original_number = number\n",
    "    reversed_number = 0\n",
    "\n",
    "    while number > 0:\n",
    "        digit = number % 10\n",
    "        reversed_number = reversed_number * 10 + digit\n",
    "        number = number // 10\n",
    "\n",
    "\n",
    "    return original_number == reversed_number\n",
    "\n",
    "number = int(input(\"Enter a number: \"))\n",
    "if is_palindrome(number):\n",
    "    print(f\"{number} is a palindrome.\")\n",
    "else:\n",
    "    print(f\"{number} is not a palindrome.\")\n"
   ]
  },
  {
   "cell_type": "markdown",
   "id": "2e51485b-fb0b-4474-ac2c-bb95d2a4b570",
   "metadata": {},
   "source": [
    "Q9. Write a code to print odd numbers from 1 to 100 using list comprehension."
   ]
  },
  {
   "cell_type": "code",
   "execution_count": 12,
   "id": "b6be2edb-02ee-46f4-aca2-f6f78b88f8a6",
   "metadata": {},
   "outputs": [
    {
     "name": "stdout",
     "output_type": "stream",
     "text": [
      "[1, 3, 5, 7, 9, 11, 13, 15, 17, 19, 21, 23, 25, 27, 29, 31, 33, 35, 37, 39, 41, 43, 45, 47, 49, 51, 53, 55, 57, 59, 61, 63, 65, 67, 69, 71, 73, 75, 77, 79, 81, 83, 85, 87, 89, 91, 93, 95, 97, 99]\n"
     ]
    }
   ],
   "source": [
    "odd_numbers = [num for num in range(1, 101) if num % 2 != 0]\n",
    "\n",
    "print(odd_numbers)\n"
   ]
  },
  {
   "cell_type": "code",
   "execution_count": null,
   "id": "0ca37314-ca65-4b02-8804-ef4ed9986798",
   "metadata": {},
   "outputs": [],
   "source": []
  }
 ],
 "metadata": {
  "kernelspec": {
   "display_name": "Python 3 (ipykernel)",
   "language": "python",
   "name": "python3"
  },
  "language_info": {
   "codemirror_mode": {
    "name": "ipython",
    "version": 3
   },
   "file_extension": ".py",
   "mimetype": "text/x-python",
   "name": "python",
   "nbconvert_exporter": "python",
   "pygments_lexer": "ipython3",
   "version": "3.10.8"
  }
 },
 "nbformat": 4,
 "nbformat_minor": 5
}
